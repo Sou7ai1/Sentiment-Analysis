{
 "cells": [
  {
   "cell_type": "code",
   "execution_count": null,
   "metadata": {},
   "outputs": [],
   "source": [
    "import pandas as pd\n",
    "import numpy as np \n",
    "import nltk\n",
    "from nltk.sentiment import SentimentIntensityAnalyzer\n"
   ]
  },
  {
   "cell_type": "code",
   "execution_count": 5,
   "metadata": {},
   "outputs": [
    {
     "name": "stdout",
     "output_type": "stream",
     "text": [
      "2.7\n"
     ]
    },
    {
     "name": "stderr",
     "output_type": "stream",
     "text": [
      "[nltk_data] Downloading package vader_lexicon to\n",
      "[nltk_data]     C:\\Users\\msouh\\AppData\\Roaming\\nltk_data...\n",
      "[nltk_data]   Package vader_lexicon is already up-to-date!\n"
     ]
    }
   ],
   "source": [
    "nltk.download('vader_lexicon')\n"
   ]
  },
  {
   "cell_type": "code",
   "execution_count": 30,
   "metadata": {},
   "outputs": [
    {
     "name": "stdout",
     "output_type": "stream",
     "text": [
      "3.2\n"
     ]
    }
   ],
   "source": [
    "analyzer=SentimentIntensityAnalyzer()\n",
    "vaderLex=analyzer.lexicon\n",
    "print(vaderLex.get(\"love\"))#Does not detect with CAPITAL letters"
   ]
  },
  {
   "cell_type": "code",
   "execution_count": 33,
   "metadata": {},
   "outputs": [
    {
     "name": "stdout",
     "output_type": "stream",
     "text": [
      "{'neg': 0.248, 'neu': 0.47, 'pos': 0.282, 'compound': 0.128}\n"
     ]
    }
   ],
   "source": [
    "print(analyzer.polarity_scores(\"love you so much , see you bye , i hate you\"))"
   ]
  },
  {
   "cell_type": "code",
   "execution_count": null,
   "metadata": {},
   "outputs": [],
   "source": [
    "training_set=pd.read_csv(\"train.csv\")"
   ]
  },
  {
   "cell_type": "code",
   "execution_count": 16,
   "metadata": {},
   "outputs": [
    {
     "name": "stdout",
     "output_type": "stream",
     "text": [
      "<class 'pandas.core.frame.DataFrame'>\n",
      "RangeIndex: 1985 entries, 0 to 1984\n",
      "Data columns (total 6 columns):\n",
      " #   Column            Non-Null Count  Dtype \n",
      "---  ------            --------------  ----- \n",
      " 0   desc_id           1985 non-null   int64 \n",
      " 1   source_name       1985 non-null   object\n",
      " 2   review_text       1984 non-null   object\n",
      " 3   is_accessibility  1985 non-null   object\n",
      " 4   cleanText         1982 non-null   object\n",
      " 5   Vader Sentiment   1985 non-null   object\n",
      "dtypes: int64(1), object(5)\n",
      "memory usage: 93.2+ KB\n"
     ]
    }
   ],
   "source": [
    "training_set.info()"
   ]
  },
  {
   "cell_type": "markdown",
   "metadata": {},
   "source": [
    "### No nan Values"
   ]
  },
  {
   "cell_type": "code",
   "execution_count": 17,
   "metadata": {},
   "outputs": [
    {
     "data": {
      "text/html": [
       "<div>\n",
       "<style scoped>\n",
       "    .dataframe tbody tr th:only-of-type {\n",
       "        vertical-align: middle;\n",
       "    }\n",
       "\n",
       "    .dataframe tbody tr th {\n",
       "        vertical-align: top;\n",
       "    }\n",
       "\n",
       "    .dataframe thead th {\n",
       "        text-align: right;\n",
       "    }\n",
       "</style>\n",
       "<table border=\"1\" class=\"dataframe\">\n",
       "  <thead>\n",
       "    <tr style=\"text-align: right;\">\n",
       "      <th></th>\n",
       "      <th>desc_id</th>\n",
       "      <th>source_name</th>\n",
       "      <th>review_text</th>\n",
       "      <th>is_accessibility</th>\n",
       "      <th>cleanText</th>\n",
       "      <th>Vader Sentiment</th>\n",
       "    </tr>\n",
       "  </thead>\n",
       "  <tbody>\n",
       "    <tr>\n",
       "      <th>0</th>\n",
       "      <td>1</td>\n",
       "      <td>gp_AOqpTOE-4PtpSwSKzv8CF6EtR6seFSLwg-QQPTpQKze...</td>\n",
       "      <td>Excellent app.  Been using it for years on man...</td>\n",
       "      <td>Accessibility Review</td>\n",
       "      <td>excellent app using years many different phone...</td>\n",
       "      <td>Positive</td>\n",
       "    </tr>\n",
       "    <tr>\n",
       "      <th>1</th>\n",
       "      <td>1</td>\n",
       "      <td>gp_AOqpTOGPKJI_1QuwFgSTcvd7BanaHdhJoLUXZDx8OVt...</td>\n",
       "      <td>I've used this on a different phone - but cur...</td>\n",
       "      <td>Accessibility Review</td>\n",
       "      <td>used different phone currently moto android re...</td>\n",
       "      <td>Positive</td>\n",
       "    </tr>\n",
       "    <tr>\n",
       "      <th>2</th>\n",
       "      <td>1</td>\n",
       "      <td>lg_AOqpTOE5_m1p9SEdAbCNs_Nh_qN7EHMLnyPnytEW9NX...</td>\n",
       "      <td>Fantastic program! Instant search results and...</td>\n",
       "      <td>Accessibility Review</td>\n",
       "      <td>fantastic program instant search results fast ...</td>\n",
       "      <td>Positive</td>\n",
       "    </tr>\n",
       "    <tr>\n",
       "      <th>3</th>\n",
       "      <td>1</td>\n",
       "      <td>lg_AOqpTOEyZAX-Z1qAqVvbqV8s6vJAttZvFBFixQTM_jW...</td>\n",
       "      <td>I'm using this on my mobile as well as on PC ...</td>\n",
       "      <td>Accessibility Review</td>\n",
       "      <td>using mobile well view offline dictionaries us...</td>\n",
       "      <td>Positive</td>\n",
       "    </tr>\n",
       "    <tr>\n",
       "      <th>4</th>\n",
       "      <td>1</td>\n",
       "      <td>gp_AOqpTOE6SfnT_RCAb9w8AbMpASAbJDvsJIHxp_xuhKg...</td>\n",
       "      <td>Text reflow doesn't work. I want my money back...</td>\n",
       "      <td>Accessibility Review</td>\n",
       "      <td>text reflow work want money back</td>\n",
       "      <td>Positive</td>\n",
       "    </tr>\n",
       "  </tbody>\n",
       "</table>\n",
       "</div>"
      ],
      "text/plain": [
       "   desc_id                                        source_name  \\\n",
       "0        1  gp_AOqpTOE-4PtpSwSKzv8CF6EtR6seFSLwg-QQPTpQKze...   \n",
       "1        1  gp_AOqpTOGPKJI_1QuwFgSTcvd7BanaHdhJoLUXZDx8OVt...   \n",
       "2        1  lg_AOqpTOE5_m1p9SEdAbCNs_Nh_qN7EHMLnyPnytEW9NX...   \n",
       "3        1  lg_AOqpTOEyZAX-Z1qAqVvbqV8s6vJAttZvFBFixQTM_jW...   \n",
       "4        1  gp_AOqpTOE6SfnT_RCAb9w8AbMpASAbJDvsJIHxp_xuhKg...   \n",
       "\n",
       "                                         review_text      is_accessibility  \\\n",
       "0  Excellent app.  Been using it for years on man...  Accessibility Review   \n",
       "1   I've used this on a different phone - but cur...  Accessibility Review   \n",
       "2   Fantastic program! Instant search results and...  Accessibility Review   \n",
       "3   I'm using this on my mobile as well as on PC ...  Accessibility Review   \n",
       "4  Text reflow doesn't work. I want my money back...  Accessibility Review   \n",
       "\n",
       "                                           cleanText Vader Sentiment  \n",
       "0  excellent app using years many different phone...        Positive  \n",
       "1  used different phone currently moto android re...        Positive  \n",
       "2  fantastic program instant search results fast ...        Positive  \n",
       "3  using mobile well view offline dictionaries us...        Positive  \n",
       "4                   text reflow work want money back        Positive  "
      ]
     },
     "execution_count": 17,
     "metadata": {},
     "output_type": "execute_result"
    }
   ],
   "source": [
    "training_set.head()"
   ]
  },
  {
   "cell_type": "code",
   "execution_count": 19,
   "metadata": {},
   "outputs": [
    {
     "data": {
      "text/plain": [
       "desc_id             181\n",
       "source_name         181\n",
       "review_text         180\n",
       "is_accessibility    181\n",
       "cleanText           178\n",
       "Vader Sentiment     181\n",
       "dtype: int64"
      ]
     },
     "execution_count": 19,
     "metadata": {},
     "output_type": "execute_result"
    }
   ],
   "source": [
    "training_set[training_set['Vader Sentiment']==\"Neutral\"].count()"
   ]
  },
  {
   "cell_type": "code",
   "execution_count": null,
   "metadata": {},
   "outputs": [],
   "source": [
    "training_set = training_set.drop(index=training_set[training_set['Vader Sentiment'] == \"Neutral\"].index)#Dropping neutral sentiment\n"
   ]
  },
  {
   "cell_type": "code",
   "execution_count": 26,
   "metadata": {},
   "outputs": [
    {
     "data": {
      "text/plain": [
       "desc_id             0\n",
       "source_name         0\n",
       "review_text         0\n",
       "is_accessibility    0\n",
       "cleanText           0\n",
       "Vader Sentiment     0\n",
       "dtype: int64"
      ]
     },
     "execution_count": 26,
     "metadata": {},
     "output_type": "execute_result"
    }
   ],
   "source": [
    "training_set[training_set['Vader Sentiment']==\"Neutral\"].count()"
   ]
  },
  {
   "cell_type": "code",
   "execution_count": 55,
   "metadata": {},
   "outputs": [
    {
     "name": "stdout",
     "output_type": "stream",
     "text": [
      "Word : excellent \tScore :  2.7\n",
      "Word : app \tScore :  None\n",
      "Word : using \tScore :  None\n",
      "Word : years \tScore :  None\n",
      "Word : many \tScore :  None\n",
      "Word : different \tScore :  None\n",
      "Word : phones \tScore :  None\n",
      "Word : automatically \tScore :  None\n",
      "Word : read \tScore :  None\n",
      "Word : text \tScore :  None\n",
      "Word : messages \tScore :  None\n",
      "Word : though \tScore :  None\n",
      "Word : cars \tScore :  None\n",
      "Word : bluetooth \tScore :  None\n",
      "Word : voice \tScore :  None\n",
      "Word : stream \tScore :  None\n",
      "Word : wish \tScore :  1.7\n",
      "Word : could \tScore :  None\n",
      "Word : direct \tScore :  None\n",
      "Word : google \tScore :  None\n",
      "Word : maps \tScore :  None\n",
      "Word : voice \tScore :  None\n",
      "Word : commands \tScore :  None\n",
      "Word : voice \tScore :  None\n",
      "Word : stream \tScore :  None\n",
      "Word : well \tScore :  1.1\n",
      "Word : hopefully \tScore :  1.7\n",
      "Word : day \tScore :  None\n",
      "excellent app using years many different phones automatically read text messages though cars bluetooth voice stream wish could direct google maps voice commands voice stream well hopefully day\n",
      "[2.7, None, None, None, None, None, None, None, None, None, None, None, None, None, None, None, 1.7, None, None, None, None, None, None, None, None, 1.1, 1.7, None]\n"
     ]
    }
   ],
   "source": [
    "sentence=\"excellent app using years many different phones automatically read text messages though cars bluetooth voice stream wish could direct google maps voice commands voice stream well hopefully day\"\n",
    "\n",
    "list=[]\n",
    "for word in sentence.split(sep=\" \"):\n",
    "    score=vaderLex.get(word)\n",
    "    print(\"Word :\",word,\"\\tScore : \",vaderLex.get(word))\n",
    "    list.append(score)\n",
    "\n",
    "print(sentence)    \n",
    "print(list)"
   ]
  },
  {
   "cell_type": "code",
   "execution_count": 56,
   "metadata": {},
   "outputs": [
    {
     "ename": "AttributeError",
     "evalue": "'Series' object has no attribute 'split'",
     "output_type": "error",
     "traceback": [
      "\u001b[1;31m---------------------------------------------------------------------------\u001b[0m",
      "\u001b[1;31mAttributeError\u001b[0m                            Traceback (most recent call last)",
      "\u001b[1;32m~\\AppData\\Local\\Temp\\ipykernel_9760\\4034825365.py\u001b[0m in \u001b[0;36m?\u001b[1;34m()\u001b[0m\n\u001b[0;32m      1\u001b[0m \u001b[0mlist\u001b[0m\u001b[1;33m=\u001b[0m\u001b[1;33m[\u001b[0m\u001b[1;33m]\u001b[0m\u001b[1;33m\u001b[0m\u001b[1;33m\u001b[0m\u001b[0m\n\u001b[0;32m      2\u001b[0m \u001b[1;32mfor\u001b[0m \u001b[0meach\u001b[0m \u001b[1;32min\u001b[0m \u001b[0mtraining_set\u001b[0m\u001b[1;33m[\u001b[0m\u001b[1;34m'cleanText'\u001b[0m\u001b[1;33m]\u001b[0m\u001b[1;33m:\u001b[0m\u001b[1;33m\u001b[0m\u001b[1;33m\u001b[0m\u001b[0m\n\u001b[0;32m      3\u001b[0m     \u001b[0mlist\u001b[0m\u001b[1;33m=\u001b[0m\u001b[1;33m[\u001b[0m\u001b[1;33m]\u001b[0m\u001b[1;33m\u001b[0m\u001b[1;33m\u001b[0m\u001b[0m\n\u001b[1;32m----> 4\u001b[1;33m     \u001b[1;32mfor\u001b[0m \u001b[0mword\u001b[0m \u001b[1;32min\u001b[0m \u001b[0mtraining_set\u001b[0m\u001b[1;33m[\u001b[0m\u001b[1;34m'cleanText'\u001b[0m\u001b[1;33m]\u001b[0m\u001b[1;33m.\u001b[0m\u001b[0msplit\u001b[0m\u001b[1;33m(\u001b[0m\u001b[0msep\u001b[0m\u001b[1;33m=\u001b[0m\u001b[1;34m\" \"\u001b[0m\u001b[1;33m)\u001b[0m\u001b[1;33m:\u001b[0m\u001b[1;33m\u001b[0m\u001b[1;33m\u001b[0m\u001b[0m\n\u001b[0m\u001b[0;32m      5\u001b[0m         \u001b[0mscore\u001b[0m\u001b[1;33m=\u001b[0m\u001b[0mvaderLex\u001b[0m\u001b[1;33m.\u001b[0m\u001b[0mget\u001b[0m\u001b[1;33m(\u001b[0m\u001b[0mword\u001b[0m\u001b[1;33m)\u001b[0m\u001b[1;33m\u001b[0m\u001b[1;33m\u001b[0m\u001b[0m\n\u001b[0;32m      6\u001b[0m         \u001b[0mprint\u001b[0m\u001b[1;33m(\u001b[0m\u001b[1;34m\"Word :\"\u001b[0m\u001b[1;33m,\u001b[0m\u001b[0mword\u001b[0m\u001b[1;33m,\u001b[0m\u001b[1;34m\"\\tScore : \"\u001b[0m\u001b[1;33m,\u001b[0m\u001b[0mvaderLex\u001b[0m\u001b[1;33m.\u001b[0m\u001b[0mget\u001b[0m\u001b[1;33m(\u001b[0m\u001b[0mword\u001b[0m\u001b[1;33m)\u001b[0m\u001b[1;33m)\u001b[0m\u001b[1;33m\u001b[0m\u001b[1;33m\u001b[0m\u001b[0m\n\u001b[0;32m      7\u001b[0m         \u001b[0mlist\u001b[0m\u001b[1;33m.\u001b[0m\u001b[0mappend\u001b[0m\u001b[1;33m(\u001b[0m\u001b[0mscore\u001b[0m\u001b[1;33m)\u001b[0m\u001b[1;33m\u001b[0m\u001b[1;33m\u001b[0m\u001b[0m\n",
      "\u001b[1;32mc:\\ProgramData\\anaconda3\\Lib\\site-packages\\pandas\\core\\generic.py\u001b[0m in \u001b[0;36m?\u001b[1;34m(self, name)\u001b[0m\n\u001b[0;32m   6200\u001b[0m             \u001b[1;32mand\u001b[0m \u001b[0mname\u001b[0m \u001b[1;32mnot\u001b[0m \u001b[1;32min\u001b[0m \u001b[0mself\u001b[0m\u001b[1;33m.\u001b[0m\u001b[0m_accessors\u001b[0m\u001b[1;33m\u001b[0m\u001b[1;33m\u001b[0m\u001b[0m\n\u001b[0;32m   6201\u001b[0m             \u001b[1;32mand\u001b[0m \u001b[0mself\u001b[0m\u001b[1;33m.\u001b[0m\u001b[0m_info_axis\u001b[0m\u001b[1;33m.\u001b[0m\u001b[0m_can_hold_identifiers_and_holds_name\u001b[0m\u001b[1;33m(\u001b[0m\u001b[0mname\u001b[0m\u001b[1;33m)\u001b[0m\u001b[1;33m\u001b[0m\u001b[1;33m\u001b[0m\u001b[0m\n\u001b[0;32m   6202\u001b[0m         ):\n\u001b[0;32m   6203\u001b[0m             \u001b[1;32mreturn\u001b[0m \u001b[0mself\u001b[0m\u001b[1;33m[\u001b[0m\u001b[0mname\u001b[0m\u001b[1;33m]\u001b[0m\u001b[1;33m\u001b[0m\u001b[1;33m\u001b[0m\u001b[0m\n\u001b[1;32m-> 6204\u001b[1;33m         \u001b[1;32mreturn\u001b[0m \u001b[0mobject\u001b[0m\u001b[1;33m.\u001b[0m\u001b[0m__getattribute__\u001b[0m\u001b[1;33m(\u001b[0m\u001b[0mself\u001b[0m\u001b[1;33m,\u001b[0m \u001b[0mname\u001b[0m\u001b[1;33m)\u001b[0m\u001b[1;33m\u001b[0m\u001b[1;33m\u001b[0m\u001b[0m\n\u001b[0m",
      "\u001b[1;31mAttributeError\u001b[0m: 'Series' object has no attribute 'split'"
     ]
    }
   ],
   "source": [
    "list=[]\n",
    "for each in training_set['cleanText']:\n",
    "    list=[]\n",
    "    for word in training_set['cleanText'].split(sep=\" \"):\n",
    "        score=vaderLex.get(word)\n",
    "        print(\"Word :\",word,\"\\tScore : \",vaderLex.get(word))\n",
    "        list.append(score)\n",
    "    training_set['Numerical Features']= list"
   ]
  },
  {
   "cell_type": "code",
   "execution_count": 52,
   "metadata": {},
   "outputs": [
    {
     "data": {
      "text/html": [
       "<div>\n",
       "<style scoped>\n",
       "    .dataframe tbody tr th:only-of-type {\n",
       "        vertical-align: middle;\n",
       "    }\n",
       "\n",
       "    .dataframe tbody tr th {\n",
       "        vertical-align: top;\n",
       "    }\n",
       "\n",
       "    .dataframe thead th {\n",
       "        text-align: right;\n",
       "    }\n",
       "</style>\n",
       "<table border=\"1\" class=\"dataframe\">\n",
       "  <thead>\n",
       "    <tr style=\"text-align: right;\">\n",
       "      <th></th>\n",
       "      <th>desc_id</th>\n",
       "      <th>source_name</th>\n",
       "      <th>review_text</th>\n",
       "      <th>is_accessibility</th>\n",
       "      <th>cleanText</th>\n",
       "      <th>Vader Sentiment</th>\n",
       "    </tr>\n",
       "  </thead>\n",
       "  <tbody>\n",
       "    <tr>\n",
       "      <th>0</th>\n",
       "      <td>1</td>\n",
       "      <td>gp_AOqpTOE-4PtpSwSKzv8CF6EtR6seFSLwg-QQPTpQKze...</td>\n",
       "      <td>Excellent app.  Been using it for years on man...</td>\n",
       "      <td>Accessibility Review</td>\n",
       "      <td>excellent app using years many different phone...</td>\n",
       "      <td>Positive</td>\n",
       "    </tr>\n",
       "  </tbody>\n",
       "</table>\n",
       "</div>"
      ],
      "text/plain": [
       "   desc_id                                        source_name  \\\n",
       "0        1  gp_AOqpTOE-4PtpSwSKzv8CF6EtR6seFSLwg-QQPTpQKze...   \n",
       "\n",
       "                                         review_text      is_accessibility  \\\n",
       "0  Excellent app.  Been using it for years on man...  Accessibility Review   \n",
       "\n",
       "                                           cleanText Vader Sentiment  \n",
       "0  excellent app using years many different phone...        Positive  "
      ]
     },
     "execution_count": 52,
     "metadata": {},
     "output_type": "execute_result"
    }
   ],
   "source": [
    "training_set.head(1)"
   ]
  },
  {
   "cell_type": "code",
   "execution_count": 60,
   "metadata": {},
   "outputs": [
    {
     "name": "stdout",
     "output_type": "stream",
     "text": [
      "[2.7, 0, 0, 0, 0, 0, 0, 0, 0, 0, 0, 0, 0, 0, 0, 0, 1.7, 0, 0, 0, 0, 0, 0, 0, 0, 1.1, 1.7, 0]\n"
     ]
    }
   ],
   "source": [
    "def compute_score(text):\n",
    "    scores = []\n",
    "    if isinstance(text, str):  \n",
    "        for word in text.split():  \n",
    "            score = vaderLex.get(word, 0)\n",
    "            scores.append(score)  \n",
    "    return scores  "
   ]
  },
  {
   "cell_type": "code",
   "execution_count": null,
   "metadata": {},
   "outputs": [],
   "source": [
    "training_set['Numerical Features'] = training_set['cleanText'].apply(compute_score)#Applying the func for each row\n"
   ]
  },
  {
   "cell_type": "code",
   "execution_count": 63,
   "metadata": {},
   "outputs": [
    {
     "data": {
      "text/html": [
       "<div>\n",
       "<style scoped>\n",
       "    .dataframe tbody tr th:only-of-type {\n",
       "        vertical-align: middle;\n",
       "    }\n",
       "\n",
       "    .dataframe tbody tr th {\n",
       "        vertical-align: top;\n",
       "    }\n",
       "\n",
       "    .dataframe thead th {\n",
       "        text-align: right;\n",
       "    }\n",
       "</style>\n",
       "<table border=\"1\" class=\"dataframe\">\n",
       "  <thead>\n",
       "    <tr style=\"text-align: right;\">\n",
       "      <th></th>\n",
       "      <th>desc_id</th>\n",
       "      <th>source_name</th>\n",
       "      <th>review_text</th>\n",
       "      <th>is_accessibility</th>\n",
       "      <th>cleanText</th>\n",
       "      <th>Vader Sentiment</th>\n",
       "      <th>Numerical Features</th>\n",
       "    </tr>\n",
       "  </thead>\n",
       "  <tbody>\n",
       "    <tr>\n",
       "      <th>1972</th>\n",
       "      <td>1</td>\n",
       "      <td>gp_AOqpTOG7eL7ggaBifMxAQYq3DONgXbSmE4xrSapWuSa...</td>\n",
       "      <td>Reader does not remember my previous settings....</td>\n",
       "      <td>Accessibility Review</td>\n",
       "      <td>reader remember previous settings must reset s...</td>\n",
       "      <td>Positive</td>\n",
       "      <td>[0, 0, 0, 0, 0, 0, 0, 1.5, 0, 0, 0, 0, 0, 0, 0...</td>\n",
       "    </tr>\n",
       "    <tr>\n",
       "      <th>1973</th>\n",
       "      <td>1</td>\n",
       "      <td>gp_AOqpTOG7HQ70T2meLjPlcgdLSLuSv93-lKRMnwhv89S...</td>\n",
       "      <td>This reader is free - supports a wide range o...</td>\n",
       "      <td>Accessibility Review</td>\n",
       "      <td>reader free supports wide range ebook formats ...</td>\n",
       "      <td>Positive</td>\n",
       "      <td>[0, 2.3, 1.5, 0, 0, 0, 0, 0, 0, 0, 0, 0, 0, 0,...</td>\n",
       "    </tr>\n",
       "    <tr>\n",
       "      <th>1974</th>\n",
       "      <td>1</td>\n",
       "      <td>gp_AOqpTOGaiazwEEJXX8jwz6t6137-U_UVgyURrz0eno-...</td>\n",
       "      <td>I've tried several ebook apps. I think Aldiko...</td>\n",
       "      <td>Accessibility Review</td>\n",
       "      <td>tried several ebook apps think aldiko best pdf...</td>\n",
       "      <td>Positive</td>\n",
       "      <td>[0, 0, 0, 0, 0, 0, 3.2, 0, 0, 1.3, 0, 3.1, 0, ...</td>\n",
       "    </tr>\n",
       "    <tr>\n",
       "      <th>1975</th>\n",
       "      <td>1</td>\n",
       "      <td>gp_AOqpTOGaIBL9hjOsouH_n-tRQr_gJIocsDYSjY1e3mf...</td>\n",
       "      <td>So many settings. If you don't like something...</td>\n",
       "      <td>Accessibility Review</td>\n",
       "      <td>many settings like something probably change s...</td>\n",
       "      <td>Positive</td>\n",
       "      <td>[0, 0, 1.5, 0, 0, 0, 0, 0, 2.0, 0, 0, 0, 0, 0,...</td>\n",
       "    </tr>\n",
       "    <tr>\n",
       "      <th>1976</th>\n",
       "      <td>1</td>\n",
       "      <td>gp_AOqpTOGegKdpY8TvkxpCKsZhKlhoS4TAC8SwwnDp7zp...</td>\n",
       "      <td>was excellent but it stopped to see books on ...</td>\n",
       "      <td>Accessibility Review</td>\n",
       "      <td>excellent stopped see books extcard directory ...</td>\n",
       "      <td>Positive</td>\n",
       "      <td>[2.7, -0.9, 0, 0, 0, 0, 0, 0, 0, 0]</td>\n",
       "    </tr>\n",
       "    <tr>\n",
       "      <th>1977</th>\n",
       "      <td>1</td>\n",
       "      <td>gp_AOqpTOGF94lKb8JB7Uhh04CbGKmZ5fVghsA3ctfEVcW...</td>\n",
       "      <td>More fonts will make it even better</td>\n",
       "      <td>Accessibility Review</td>\n",
       "      <td>fonts make even better</td>\n",
       "      <td>Positive</td>\n",
       "      <td>[0, 0, 0, 1.9]</td>\n",
       "    </tr>\n",
       "    <tr>\n",
       "      <th>1979</th>\n",
       "      <td>1</td>\n",
       "      <td>gp_AOqpTOGJZCmw6frfoemc77Yq4dp-1fxbK-puAcwE29Q...</td>\n",
       "      <td>By far the best app I've used for reading and...</td>\n",
       "      <td>Accessibility Review</td>\n",
       "      <td>far best app used reading quick easy simple ab...</td>\n",
       "      <td>Positive</td>\n",
       "      <td>[0, 3.2, 0, 0, 0, 0, 1.9, 0, 0, 0, 0, 0, 0, 0,...</td>\n",
       "    </tr>\n",
       "    <tr>\n",
       "      <th>1981</th>\n",
       "      <td>1</td>\n",
       "      <td>gp_AOqpTOGLFnORYm9M6DkAuG6-VJzlIUV0T4jPmGB7-gj...</td>\n",
       "      <td>it is realy nice - I loved it . it is  top  ca...</td>\n",
       "      <td>Accessibility Review</td>\n",
       "      <td>realy nice loved top candidate reader favorite...</td>\n",
       "      <td>Positive</td>\n",
       "      <td>[0, 1.8, 2.9, 0.8, 0, 0, 2.0, 0, 0, 0, 0, 0, 0...</td>\n",
       "    </tr>\n",
       "    <tr>\n",
       "      <th>1983</th>\n",
       "      <td>1</td>\n",
       "      <td>gp_AOqpTOGpOhiVI2WL_uwhHuu_ZhwYnTXwJLDPt-4-9_Z...</td>\n",
       "      <td>Slick layout and design and very functional b...</td>\n",
       "      <td>Accessibility Review</td>\n",
       "      <td>slick layout design functional sometimes throw...</td>\n",
       "      <td>Positive</td>\n",
       "      <td>[0, 0, 0, 0, 0, 0, 0, 0, 0, 0, 0, 0.2, 0, 0, 0...</td>\n",
       "    </tr>\n",
       "    <tr>\n",
       "      <th>1984</th>\n",
       "      <td>1</td>\n",
       "      <td>gp_AOqpTOGpwNMVoUce48nQ7_cVsgQ7bnZ3LB0bjnJ3qmF...</td>\n",
       "      <td>I loved  the app and all features including th...</td>\n",
       "      <td>Accessibility Review</td>\n",
       "      <td>loved app features including flexibility layou...</td>\n",
       "      <td>Positive</td>\n",
       "      <td>[2.9, 0, 0, 0, 1.4, 0, 1.5, 0, 0, 0, 0, 0, 0, ...</td>\n",
       "    </tr>\n",
       "  </tbody>\n",
       "</table>\n",
       "</div>"
      ],
      "text/plain": [
       "      desc_id                                        source_name  \\\n",
       "1972        1  gp_AOqpTOG7eL7ggaBifMxAQYq3DONgXbSmE4xrSapWuSa...   \n",
       "1973        1  gp_AOqpTOG7HQ70T2meLjPlcgdLSLuSv93-lKRMnwhv89S...   \n",
       "1974        1  gp_AOqpTOGaiazwEEJXX8jwz6t6137-U_UVgyURrz0eno-...   \n",
       "1975        1  gp_AOqpTOGaIBL9hjOsouH_n-tRQr_gJIocsDYSjY1e3mf...   \n",
       "1976        1  gp_AOqpTOGegKdpY8TvkxpCKsZhKlhoS4TAC8SwwnDp7zp...   \n",
       "1977        1  gp_AOqpTOGF94lKb8JB7Uhh04CbGKmZ5fVghsA3ctfEVcW...   \n",
       "1979        1  gp_AOqpTOGJZCmw6frfoemc77Yq4dp-1fxbK-puAcwE29Q...   \n",
       "1981        1  gp_AOqpTOGLFnORYm9M6DkAuG6-VJzlIUV0T4jPmGB7-gj...   \n",
       "1983        1  gp_AOqpTOGpOhiVI2WL_uwhHuu_ZhwYnTXwJLDPt-4-9_Z...   \n",
       "1984        1  gp_AOqpTOGpwNMVoUce48nQ7_cVsgQ7bnZ3LB0bjnJ3qmF...   \n",
       "\n",
       "                                            review_text      is_accessibility  \\\n",
       "1972  Reader does not remember my previous settings....  Accessibility Review   \n",
       "1973   This reader is free - supports a wide range o...  Accessibility Review   \n",
       "1974   I've tried several ebook apps. I think Aldiko...  Accessibility Review   \n",
       "1975   So many settings. If you don't like something...  Accessibility Review   \n",
       "1976   was excellent but it stopped to see books on ...  Accessibility Review   \n",
       "1977                More fonts will make it even better  Accessibility Review   \n",
       "1979   By far the best app I've used for reading and...  Accessibility Review   \n",
       "1981  it is realy nice - I loved it . it is  top  ca...  Accessibility Review   \n",
       "1983   Slick layout and design and very functional b...  Accessibility Review   \n",
       "1984  I loved  the app and all features including th...  Accessibility Review   \n",
       "\n",
       "                                              cleanText Vader Sentiment  \\\n",
       "1972  reader remember previous settings must reset s...        Positive   \n",
       "1973  reader free supports wide range ebook formats ...        Positive   \n",
       "1974  tried several ebook apps think aldiko best pdf...        Positive   \n",
       "1975  many settings like something probably change s...        Positive   \n",
       "1976  excellent stopped see books extcard directory ...        Positive   \n",
       "1977                             fonts make even better        Positive   \n",
       "1979  far best app used reading quick easy simple ab...        Positive   \n",
       "1981  realy nice loved top candidate reader favorite...        Positive   \n",
       "1983  slick layout design functional sometimes throw...        Positive   \n",
       "1984  loved app features including flexibility layou...        Positive   \n",
       "\n",
       "                                     Numerical Features  \n",
       "1972  [0, 0, 0, 0, 0, 0, 0, 1.5, 0, 0, 0, 0, 0, 0, 0...  \n",
       "1973  [0, 2.3, 1.5, 0, 0, 0, 0, 0, 0, 0, 0, 0, 0, 0,...  \n",
       "1974  [0, 0, 0, 0, 0, 0, 3.2, 0, 0, 1.3, 0, 3.1, 0, ...  \n",
       "1975  [0, 0, 1.5, 0, 0, 0, 0, 0, 2.0, 0, 0, 0, 0, 0,...  \n",
       "1976                [2.7, -0.9, 0, 0, 0, 0, 0, 0, 0, 0]  \n",
       "1977                                     [0, 0, 0, 1.9]  \n",
       "1979  [0, 3.2, 0, 0, 0, 0, 1.9, 0, 0, 0, 0, 0, 0, 0,...  \n",
       "1981  [0, 1.8, 2.9, 0.8, 0, 0, 2.0, 0, 0, 0, 0, 0, 0...  \n",
       "1983  [0, 0, 0, 0, 0, 0, 0, 0, 0, 0, 0, 0.2, 0, 0, 0...  \n",
       "1984  [2.9, 0, 0, 0, 1.4, 0, 1.5, 0, 0, 0, 0, 0, 0, ...  "
      ]
     },
     "execution_count": 63,
     "metadata": {},
     "output_type": "execute_result"
    }
   ],
   "source": [
    "training_set.tail(10)"
   ]
  },
  {
   "cell_type": "code",
   "execution_count": null,
   "metadata": {},
   "outputs": [],
   "source": [
    "X_New = np.array([np.ones(len(x)), x.flatten()]).T \n",
    "y = y.reshape(100, 1) \n",
    "num_iter = 1000\n",
    "alpha = 0.01 \n",
    "m = len(x)  \n",
    "theta = np.zeros((2, 1),dtype = float) \n",
    "for i in range(num_iter): \n",
    "    gradients = X_New.T.dot(X_New.dot(theta)- y) #Backward Pass\n",
    "    theta = theta - (1/m) * alpha * gradients #Updating the weights "
   ]
  }
 ],
 "metadata": {
  "kernelspec": {
   "display_name": "base",
   "language": "python",
   "name": "python3"
  },
  "language_info": {
   "codemirror_mode": {
    "name": "ipython",
    "version": 3
   },
   "file_extension": ".py",
   "mimetype": "text/x-python",
   "name": "python",
   "nbconvert_exporter": "python",
   "pygments_lexer": "ipython3",
   "version": "3.11.7"
  }
 },
 "nbformat": 4,
 "nbformat_minor": 2
}
