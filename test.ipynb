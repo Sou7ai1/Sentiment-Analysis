{
 "cells": [
  {
   "cell_type": "code",
   "execution_count": 1,
   "metadata": {},
   "outputs": [],
   "source": [
    "import pandas as pd\n",
    "import numpy as np \n",
    "import nltk\n",
    "from nltk.sentiment import SentimentIntensityAnalyzer\n",
    "import matplotlib.pyplot as plt\n",
    "import pickle  # Save and load model\n",
    "from sklearn.model_selection import train_test_split\n",
    "from sklearn.metrics import accuracy_score\n"
   ]
  },
  {
   "cell_type": "code",
   "execution_count": 2,
   "metadata": {},
   "outputs": [
    {
     "name": "stderr",
     "output_type": "stream",
     "text": [
      "[nltk_data] Downloading package vader_lexicon to\n",
      "[nltk_data]     C:\\Users\\msouh\\AppData\\Roaming\\nltk_data...\n",
      "[nltk_data]   Package vader_lexicon is already up-to-date!\n"
     ]
    },
    {
     "data": {
      "text/plain": [
       "True"
      ]
     },
     "execution_count": 2,
     "metadata": {},
     "output_type": "execute_result"
    }
   ],
   "source": [
    "nltk.download('vader_lexicon')\n"
   ]
  },
  {
   "cell_type": "code",
   "execution_count": 3,
   "metadata": {},
   "outputs": [
    {
     "name": "stdout",
     "output_type": "stream",
     "text": [
      "3.2\n"
     ]
    }
   ],
   "source": [
    "analyzer=SentimentIntensityAnalyzer()\n",
    "vaderLex=analyzer.lexicon\n",
    "print(vaderLex.get(\"love\"))#Does not detect with CAPITAL letters"
   ]
  },
  {
   "cell_type": "code",
   "execution_count": 4,
   "metadata": {},
   "outputs": [
    {
     "name": "stdout",
     "output_type": "stream",
     "text": [
      "{'neg': 0.248, 'neu': 0.47, 'pos': 0.282, 'compound': 0.128}\n"
     ]
    }
   ],
   "source": [
    "print(analyzer.polarity_scores(\"love you so much , see you bye , i hate you\"))"
   ]
  },
  {
   "cell_type": "code",
   "execution_count": 5,
   "metadata": {},
   "outputs": [],
   "source": [
    "training_set=pd.read_csv(\"train.csv\")"
   ]
  },
  {
   "cell_type": "code",
   "execution_count": 6,
   "metadata": {},
   "outputs": [
    {
     "name": "stdout",
     "output_type": "stream",
     "text": [
      "<class 'pandas.core.frame.DataFrame'>\n",
      "RangeIndex: 1985 entries, 0 to 1984\n",
      "Data columns (total 6 columns):\n",
      " #   Column            Non-Null Count  Dtype \n",
      "---  ------            --------------  ----- \n",
      " 0   desc_id           1985 non-null   int64 \n",
      " 1   source_name       1985 non-null   object\n",
      " 2   review_text       1984 non-null   object\n",
      " 3   is_accessibility  1985 non-null   object\n",
      " 4   cleanText         1982 non-null   object\n",
      " 5   Vader Sentiment   1985 non-null   object\n",
      "dtypes: int64(1), object(5)\n",
      "memory usage: 93.2+ KB\n"
     ]
    }
   ],
   "source": [
    "training_set.info()"
   ]
  },
  {
   "cell_type": "markdown",
   "metadata": {},
   "source": [
    "### No nan Values"
   ]
  },
  {
   "cell_type": "code",
   "execution_count": 7,
   "metadata": {},
   "outputs": [
    {
     "data": {
      "text/html": [
       "<div>\n",
       "<style scoped>\n",
       "    .dataframe tbody tr th:only-of-type {\n",
       "        vertical-align: middle;\n",
       "    }\n",
       "\n",
       "    .dataframe tbody tr th {\n",
       "        vertical-align: top;\n",
       "    }\n",
       "\n",
       "    .dataframe thead th {\n",
       "        text-align: right;\n",
       "    }\n",
       "</style>\n",
       "<table border=\"1\" class=\"dataframe\">\n",
       "  <thead>\n",
       "    <tr style=\"text-align: right;\">\n",
       "      <th></th>\n",
       "      <th>desc_id</th>\n",
       "      <th>source_name</th>\n",
       "      <th>review_text</th>\n",
       "      <th>is_accessibility</th>\n",
       "      <th>cleanText</th>\n",
       "      <th>Vader Sentiment</th>\n",
       "    </tr>\n",
       "  </thead>\n",
       "  <tbody>\n",
       "    <tr>\n",
       "      <th>0</th>\n",
       "      <td>1</td>\n",
       "      <td>gp_AOqpTOE-4PtpSwSKzv8CF6EtR6seFSLwg-QQPTpQKze...</td>\n",
       "      <td>Excellent app.  Been using it for years on man...</td>\n",
       "      <td>Accessibility Review</td>\n",
       "      <td>excellent app using years many different phone...</td>\n",
       "      <td>Positive</td>\n",
       "    </tr>\n",
       "    <tr>\n",
       "      <th>1</th>\n",
       "      <td>1</td>\n",
       "      <td>gp_AOqpTOGPKJI_1QuwFgSTcvd7BanaHdhJoLUXZDx8OVt...</td>\n",
       "      <td>I've used this on a different phone - but cur...</td>\n",
       "      <td>Accessibility Review</td>\n",
       "      <td>used different phone currently moto android re...</td>\n",
       "      <td>Positive</td>\n",
       "    </tr>\n",
       "    <tr>\n",
       "      <th>2</th>\n",
       "      <td>1</td>\n",
       "      <td>lg_AOqpTOE5_m1p9SEdAbCNs_Nh_qN7EHMLnyPnytEW9NX...</td>\n",
       "      <td>Fantastic program! Instant search results and...</td>\n",
       "      <td>Accessibility Review</td>\n",
       "      <td>fantastic program instant search results fast ...</td>\n",
       "      <td>Positive</td>\n",
       "    </tr>\n",
       "    <tr>\n",
       "      <th>3</th>\n",
       "      <td>1</td>\n",
       "      <td>lg_AOqpTOEyZAX-Z1qAqVvbqV8s6vJAttZvFBFixQTM_jW...</td>\n",
       "      <td>I'm using this on my mobile as well as on PC ...</td>\n",
       "      <td>Accessibility Review</td>\n",
       "      <td>using mobile well view offline dictionaries us...</td>\n",
       "      <td>Positive</td>\n",
       "    </tr>\n",
       "    <tr>\n",
       "      <th>4</th>\n",
       "      <td>1</td>\n",
       "      <td>gp_AOqpTOE6SfnT_RCAb9w8AbMpASAbJDvsJIHxp_xuhKg...</td>\n",
       "      <td>Text reflow doesn't work. I want my money back...</td>\n",
       "      <td>Accessibility Review</td>\n",
       "      <td>text reflow work want money back</td>\n",
       "      <td>Positive</td>\n",
       "    </tr>\n",
       "  </tbody>\n",
       "</table>\n",
       "</div>"
      ],
      "text/plain": [
       "   desc_id                                        source_name  \\\n",
       "0        1  gp_AOqpTOE-4PtpSwSKzv8CF6EtR6seFSLwg-QQPTpQKze...   \n",
       "1        1  gp_AOqpTOGPKJI_1QuwFgSTcvd7BanaHdhJoLUXZDx8OVt...   \n",
       "2        1  lg_AOqpTOE5_m1p9SEdAbCNs_Nh_qN7EHMLnyPnytEW9NX...   \n",
       "3        1  lg_AOqpTOEyZAX-Z1qAqVvbqV8s6vJAttZvFBFixQTM_jW...   \n",
       "4        1  gp_AOqpTOE6SfnT_RCAb9w8AbMpASAbJDvsJIHxp_xuhKg...   \n",
       "\n",
       "                                         review_text      is_accessibility  \\\n",
       "0  Excellent app.  Been using it for years on man...  Accessibility Review   \n",
       "1   I've used this on a different phone - but cur...  Accessibility Review   \n",
       "2   Fantastic program! Instant search results and...  Accessibility Review   \n",
       "3   I'm using this on my mobile as well as on PC ...  Accessibility Review   \n",
       "4  Text reflow doesn't work. I want my money back...  Accessibility Review   \n",
       "\n",
       "                                           cleanText Vader Sentiment  \n",
       "0  excellent app using years many different phone...        Positive  \n",
       "1  used different phone currently moto android re...        Positive  \n",
       "2  fantastic program instant search results fast ...        Positive  \n",
       "3  using mobile well view offline dictionaries us...        Positive  \n",
       "4                   text reflow work want money back        Positive  "
      ]
     },
     "execution_count": 7,
     "metadata": {},
     "output_type": "execute_result"
    }
   ],
   "source": [
    "training_set.head()"
   ]
  },
  {
   "cell_type": "code",
   "execution_count": 8,
   "metadata": {},
   "outputs": [
    {
     "data": {
      "text/plain": [
       "desc_id             181\n",
       "source_name         181\n",
       "review_text         180\n",
       "is_accessibility    181\n",
       "cleanText           178\n",
       "Vader Sentiment     181\n",
       "dtype: int64"
      ]
     },
     "execution_count": 8,
     "metadata": {},
     "output_type": "execute_result"
    }
   ],
   "source": [
    "training_set[training_set['Vader Sentiment']==\"Neutral\"].count()"
   ]
  },
  {
   "cell_type": "code",
   "execution_count": 9,
   "metadata": {},
   "outputs": [],
   "source": [
    "training_set = training_set.drop(index=training_set[training_set['Vader Sentiment'] == \"Neutral\"].index)#Dropping neutral sentiment\n"
   ]
  },
  {
   "cell_type": "code",
   "execution_count": 10,
   "metadata": {},
   "outputs": [
    {
     "data": {
      "text/plain": [
       "desc_id             0\n",
       "source_name         0\n",
       "review_text         0\n",
       "is_accessibility    0\n",
       "cleanText           0\n",
       "Vader Sentiment     0\n",
       "dtype: int64"
      ]
     },
     "execution_count": 10,
     "metadata": {},
     "output_type": "execute_result"
    }
   ],
   "source": [
    "training_set[training_set['Vader Sentiment']==\"Neutral\"].count()"
   ]
  },
  {
   "cell_type": "code",
   "execution_count": 11,
   "metadata": {},
   "outputs": [
    {
     "data": {
      "text/html": [
       "<div>\n",
       "<style scoped>\n",
       "    .dataframe tbody tr th:only-of-type {\n",
       "        vertical-align: middle;\n",
       "    }\n",
       "\n",
       "    .dataframe tbody tr th {\n",
       "        vertical-align: top;\n",
       "    }\n",
       "\n",
       "    .dataframe thead th {\n",
       "        text-align: right;\n",
       "    }\n",
       "</style>\n",
       "<table border=\"1\" class=\"dataframe\">\n",
       "  <thead>\n",
       "    <tr style=\"text-align: right;\">\n",
       "      <th></th>\n",
       "      <th>desc_id</th>\n",
       "      <th>source_name</th>\n",
       "      <th>review_text</th>\n",
       "      <th>is_accessibility</th>\n",
       "      <th>cleanText</th>\n",
       "      <th>Vader Sentiment</th>\n",
       "    </tr>\n",
       "  </thead>\n",
       "  <tbody>\n",
       "    <tr>\n",
       "      <th>0</th>\n",
       "      <td>1</td>\n",
       "      <td>gp_AOqpTOE-4PtpSwSKzv8CF6EtR6seFSLwg-QQPTpQKze...</td>\n",
       "      <td>Excellent app.  Been using it for years on man...</td>\n",
       "      <td>Accessibility Review</td>\n",
       "      <td>excellent app using years many different phone...</td>\n",
       "      <td>Positive</td>\n",
       "    </tr>\n",
       "  </tbody>\n",
       "</table>\n",
       "</div>"
      ],
      "text/plain": [
       "   desc_id                                        source_name  \\\n",
       "0        1  gp_AOqpTOE-4PtpSwSKzv8CF6EtR6seFSLwg-QQPTpQKze...   \n",
       "\n",
       "                                         review_text      is_accessibility  \\\n",
       "0  Excellent app.  Been using it for years on man...  Accessibility Review   \n",
       "\n",
       "                                           cleanText Vader Sentiment  \n",
       "0  excellent app using years many different phone...        Positive  "
      ]
     },
     "execution_count": 11,
     "metadata": {},
     "output_type": "execute_result"
    }
   ],
   "source": [
    "training_set.head(1)"
   ]
  },
  {
   "cell_type": "code",
   "execution_count": 12,
   "metadata": {},
   "outputs": [],
   "source": [
    "def compute_score(text):\n",
    "    scores = []\n",
    "    if isinstance(text, str):  \n",
    "        for word in text.split():  \n",
    "            score = vaderLex.get(word, 0)\n",
    "            scores.append(score)  \n",
    "    return scores  "
   ]
  },
  {
   "cell_type": "code",
   "execution_count": 13,
   "metadata": {},
   "outputs": [],
   "source": [
    "training_set['Numerical Features'] = training_set['cleanText'].apply(compute_score)#Applying the func for each row\n"
   ]
  },
  {
   "cell_type": "code",
   "execution_count": 14,
   "metadata": {},
   "outputs": [
    {
     "data": {
      "text/html": [
       "<div>\n",
       "<style scoped>\n",
       "    .dataframe tbody tr th:only-of-type {\n",
       "        vertical-align: middle;\n",
       "    }\n",
       "\n",
       "    .dataframe tbody tr th {\n",
       "        vertical-align: top;\n",
       "    }\n",
       "\n",
       "    .dataframe thead th {\n",
       "        text-align: right;\n",
       "    }\n",
       "</style>\n",
       "<table border=\"1\" class=\"dataframe\">\n",
       "  <thead>\n",
       "    <tr style=\"text-align: right;\">\n",
       "      <th></th>\n",
       "      <th>desc_id</th>\n",
       "      <th>source_name</th>\n",
       "      <th>review_text</th>\n",
       "      <th>is_accessibility</th>\n",
       "      <th>cleanText</th>\n",
       "      <th>Vader Sentiment</th>\n",
       "      <th>Numerical Features</th>\n",
       "    </tr>\n",
       "  </thead>\n",
       "  <tbody>\n",
       "    <tr>\n",
       "      <th>1981</th>\n",
       "      <td>1</td>\n",
       "      <td>gp_AOqpTOGLFnORYm9M6DkAuG6-VJzlIUV0T4jPmGB7-gj...</td>\n",
       "      <td>it is realy nice - I loved it . it is  top  ca...</td>\n",
       "      <td>Accessibility Review</td>\n",
       "      <td>realy nice loved top candidate reader favorite...</td>\n",
       "      <td>Positive</td>\n",
       "      <td>[0, 1.8, 2.9, 0.8, 0, 0, 2.0, 0, 0, 0, 0, 0, 0...</td>\n",
       "    </tr>\n",
       "    <tr>\n",
       "      <th>1983</th>\n",
       "      <td>1</td>\n",
       "      <td>gp_AOqpTOGpOhiVI2WL_uwhHuu_ZhwYnTXwJLDPt-4-9_Z...</td>\n",
       "      <td>Slick layout and design and very functional b...</td>\n",
       "      <td>Accessibility Review</td>\n",
       "      <td>slick layout design functional sometimes throw...</td>\n",
       "      <td>Positive</td>\n",
       "      <td>[0, 0, 0, 0, 0, 0, 0, 0, 0, 0, 0, 0.2, 0, 0, 0...</td>\n",
       "    </tr>\n",
       "    <tr>\n",
       "      <th>1984</th>\n",
       "      <td>1</td>\n",
       "      <td>gp_AOqpTOGpwNMVoUce48nQ7_cVsgQ7bnZ3LB0bjnJ3qmF...</td>\n",
       "      <td>I loved  the app and all features including th...</td>\n",
       "      <td>Accessibility Review</td>\n",
       "      <td>loved app features including flexibility layou...</td>\n",
       "      <td>Positive</td>\n",
       "      <td>[2.9, 0, 0, 0, 1.4, 0, 1.5, 0, 0, 0, 0, 0, 0, ...</td>\n",
       "    </tr>\n",
       "  </tbody>\n",
       "</table>\n",
       "</div>"
      ],
      "text/plain": [
       "      desc_id                                        source_name  \\\n",
       "1981        1  gp_AOqpTOGLFnORYm9M6DkAuG6-VJzlIUV0T4jPmGB7-gj...   \n",
       "1983        1  gp_AOqpTOGpOhiVI2WL_uwhHuu_ZhwYnTXwJLDPt-4-9_Z...   \n",
       "1984        1  gp_AOqpTOGpwNMVoUce48nQ7_cVsgQ7bnZ3LB0bjnJ3qmF...   \n",
       "\n",
       "                                            review_text      is_accessibility  \\\n",
       "1981  it is realy nice - I loved it . it is  top  ca...  Accessibility Review   \n",
       "1983   Slick layout and design and very functional b...  Accessibility Review   \n",
       "1984  I loved  the app and all features including th...  Accessibility Review   \n",
       "\n",
       "                                              cleanText Vader Sentiment  \\\n",
       "1981  realy nice loved top candidate reader favorite...        Positive   \n",
       "1983  slick layout design functional sometimes throw...        Positive   \n",
       "1984  loved app features including flexibility layou...        Positive   \n",
       "\n",
       "                                     Numerical Features  \n",
       "1981  [0, 1.8, 2.9, 0.8, 0, 0, 2.0, 0, 0, 0, 0, 0, 0...  \n",
       "1983  [0, 0, 0, 0, 0, 0, 0, 0, 0, 0, 0, 0.2, 0, 0, 0...  \n",
       "1984  [2.9, 0, 0, 0, 1.4, 0, 1.5, 0, 0, 0, 0, 0, 0, ...  "
      ]
     },
     "execution_count": 14,
     "metadata": {},
     "output_type": "execute_result"
    }
   ],
   "source": [
    "training_set.tail(3)"
   ]
  },
  {
   "cell_type": "code",
   "execution_count": 15,
   "metadata": {},
   "outputs": [],
   "source": [
    "max_length = max(training_set['Numerical Features'].apply(len))\n"
   ]
  },
  {
   "cell_type": "code",
   "execution_count": 16,
   "metadata": {},
   "outputs": [],
   "source": [
    "def pad_sequence(scores):\n",
    "    return scores + [0] * (max_length - len(scores))"
   ]
  },
  {
   "cell_type": "code",
   "execution_count": 17,
   "metadata": {},
   "outputs": [],
   "source": [
    "training_set['Conc_Features'] = training_set['Numerical Features'].apply(pad_sequence)"
   ]
  },
  {
   "cell_type": "code",
   "execution_count": 18,
   "metadata": {},
   "outputs": [],
   "source": [
    "X = np.array(training_set['Conc_Features'].values.tolist())\n",
    "y = (training_set[\"Vader Sentiment\"]==\"Positive\").astype(int).values"
   ]
  },
  {
   "cell_type": "code",
   "execution_count": 19,
   "metadata": {},
   "outputs": [],
   "source": [
    "def initialize_weights(n_features):  \n",
    "    bias = 0\n",
    "    weights = np.zeros(n_features)\n",
    "    return weights, bias\n",
    "\n",
    "def sigm_func(z):\n",
    "    return 1 / (1 + np.exp(-z))\n",
    "\n",
    "def loss_func(y_true, y_pred):\n",
    "    m = len(y_true)\n",
    "    loss = -(1/m) * np.sum(y_true * np.log(y_pred + 1e-9) + (1 - y_true) * np.log(1 - y_pred + 1e-9))  \n",
    "    return loss"
   ]
  },
  {
   "cell_type": "code",
   "execution_count": 20,
   "metadata": {},
   "outputs": [],
   "source": [
    "def gradient_descent(X, y, weights, bias, learning_rate, epochs):\n",
    "    m = X.shape[0]  \n",
    "    losses = []  \n",
    "    accuracies = []  \n",
    "    \n",
    "    #Forward Pass\n",
    "    for epoch in range(epochs):\n",
    "        linear_model = np.dot(X, weights) + bias  # Linear combination\n",
    "        y_pred = sigm_func(linear_model)  # Apply sigmoid \n",
    "        \n",
    "        #Backward Pass\n",
    "        dw = (1/m) * np.dot(X.T, (y_pred - y))  # Gradient of weights\n",
    "        db = (1/m) * np.sum(y_pred - y)  # Gradient of bias\n",
    "\n",
    "        # Update Weight and Bias\n",
    "        weights -= learning_rate * dw  \n",
    "        bias -= learning_rate * db  \n",
    "\n",
    "        if epoch % 20 == 0:\n",
    "            loss = loss_func(y, y_pred)\n",
    "            losses.append(loss)\n",
    "\n",
    "            y_pred_binary = (y_pred >= 0.5).astype(int)\n",
    "            accuracy = accuracy_score(y, y_pred_binary)\n",
    "            accuracies.append(accuracy)\n",
    "\n",
    "            print(f\"Epoch {epoch}, Loss: {loss:.4f}, Accuracy: {accuracy:.4f}\")\n",
    "\n",
    "    return weights, bias, losses, accuracies"
   ]
  },
  {
   "cell_type": "code",
   "execution_count": 21,
   "metadata": {},
   "outputs": [],
   "source": [
    "X_train, X_val, y_train, y_val = train_test_split(X,y, test_size=0.2, random_state=42)\n"
   ]
  },
  {
   "cell_type": "code",
   "execution_count": 22,
   "metadata": {},
   "outputs": [
    {
     "name": "stdout",
     "output_type": "stream",
     "text": [
      "Epoch 0, Loss: 0.6931, Accuracy: 0.8787\n",
      "Epoch 20, Loss: 0.3853, Accuracy: 0.9030\n",
      "Epoch 40, Loss: 0.3052, Accuracy: 0.9051\n",
      "Epoch 60, Loss: 0.2685, Accuracy: 0.9058\n",
      "Epoch 80, Loss: 0.2470, Accuracy: 0.9058\n",
      "Epoch 100, Loss: 0.2326, Accuracy: 0.9078\n",
      "Epoch 120, Loss: 0.2220, Accuracy: 0.9085\n",
      "Epoch 140, Loss: 0.2137, Accuracy: 0.9113\n",
      "Epoch 160, Loss: 0.2068, Accuracy: 0.9141\n",
      "Epoch 180, Loss: 0.2010, Accuracy: 0.9175\n",
      "Epoch 200, Loss: 0.1960, Accuracy: 0.9182\n",
      "Epoch 220, Loss: 0.1915, Accuracy: 0.9203\n",
      "Epoch 240, Loss: 0.1874, Accuracy: 0.9224\n",
      "Epoch 260, Loss: 0.1838, Accuracy: 0.9231\n",
      "Epoch 280, Loss: 0.1804, Accuracy: 0.9252\n",
      "Epoch 300, Loss: 0.1772, Accuracy: 0.9272\n",
      "Epoch 320, Loss: 0.1743, Accuracy: 0.9279\n",
      "Epoch 340, Loss: 0.1715, Accuracy: 0.9300\n",
      "Epoch 360, Loss: 0.1689, Accuracy: 0.9307\n",
      "Epoch 380, Loss: 0.1665, Accuracy: 0.9314\n",
      "Epoch 400, Loss: 0.1642, Accuracy: 0.9328\n",
      "Epoch 420, Loss: 0.1620, Accuracy: 0.9362\n",
      "Epoch 440, Loss: 0.1599, Accuracy: 0.9362\n",
      "Epoch 460, Loss: 0.1579, Accuracy: 0.9362\n",
      "Epoch 480, Loss: 0.1560, Accuracy: 0.9369\n"
     ]
    }
   ],
   "source": [
    "learning_rate = 0.07\n",
    "epochs = 500\n",
    "n_features = X_train.shape[1]\n",
    "\n",
    "weights, bias = initialize_weights(n_features)\n",
    "weights, bias, losses, accuracies = gradient_descent(X_train, y_train, weights, bias, learning_rate, epochs)"
   ]
  },
  {
   "cell_type": "code",
   "execution_count": 23,
   "metadata": {},
   "outputs": [
    {
     "name": "stdout",
     "output_type": "stream",
     "text": [
      "\n",
      "Validation Accuracy: 0.9335180055401662\n"
     ]
    }
   ],
   "source": [
    "y_val_pred = sigm_func(np.dot(X_val, weights) + bias)  \n",
    "y_val_pred_binary = (y_val_pred >= 0.5).astype(int)  \n",
    "\n",
    "final_accuracy = accuracy_score(y_val, y_val_pred_binary)\n",
    "print(f\"\\nValidation Accuracy: {final_accuracy}\")"
   ]
  },
  {
   "cell_type": "code",
   "execution_count": 25,
   "metadata": {},
   "outputs": [
    {
     "data": {
      "image/png": "[encoded data removed]",
      "text/plain": [
       "<Figure size 1200x500 with 2 Axes>"
      ]
     },
     "metadata": {},
     "output_type": "display_data"
    }
   ],
   "source": [
    "epochs_list = np.arange(0, epochs, 20)  \n",
    "\n",
    "plt.figure(figsize=(12, 5))\n",
    "\n",
    "plt.subplot(1, 2, 1)\n",
    "plt.plot(epochs_list, losses, label=\"Training Loss\", color='red')\n",
    "plt.xlabel(\"Epochs\")\n",
    "plt.ylabel(\"Loss\")\n",
    "plt.title(\"Loss Curve\")\n",
    "plt.legend()\n",
    "\n",
    "plt.subplot(1, 2, 2)\n",
    "plt.plot(epochs_list, accuracies, label=\"Training Accuracy\", color='blue')\n",
    "plt.xlabel(\"Epochs\")\n",
    "plt.ylabel(\"Accuracy\")\n",
    "plt.title(\"Accuracy Curve\")\n",
    "plt.legend()\n",
    "\n",
    "plt.show()\n"
   ]
  },
  {
   "cell_type": "code",
   "execution_count": null,
   "metadata": {},
   "outputs": [
    {
     "name": "stdout",
     "output_type": "stream",
     "text": [
      "\n",
      "Model saved\n"
     ]
    }
   ],
   "source": [
    "model_data = {\n",
    "    \"weights\": weights,\n",
    "    \"bias\": bias\n",
    "}\n",
    "\n",
    "with open(\"model.pkl\", \"wb\") as f:\n",
    "    pickle.dump(model_data, f)\n",
    "print(\"\\nModel saved\")"
   ]
  },
  {
   "cell_type": "code",
   "execution_count": null,
   "metadata": {},
   "outputs": [],
   "source": []
  }
 ],
 "metadata": {
  "kernelspec": {
   "display_name": "base",
   "language": "python",
   "name": "python3"
  },
  "language_info": {
   "codemirror_mode": {
    "name": "ipython",
    "version": 3
   },
   "file_extension": ".py",
   "mimetype": "text/x-python",
   "name": "python",
   "nbconvert_exporter": "python",
   "pygments_lexer": "ipython3",
   "version": "3.11.7"
  }
 },
 "nbformat": 4,
 "nbformat_minor": 2
}
